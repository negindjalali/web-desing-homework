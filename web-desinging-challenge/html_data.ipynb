{
 "cells": [
  {
   "cell_type": "code",
   "execution_count": 1,
   "id": "c0f1acbb-4c8a-44ab-9fa2-88dede1751cb",
   "metadata": {},
   "outputs": [],
   "source": [
    "import pandas as pd"
   ]
  },
  {
   "cell_type": "code",
   "execution_count": 2,
   "id": "15be3632-0351-472b-8a5d-4736606c46af",
   "metadata": {},
   "outputs": [],
   "source": [
    "import pandas as pd\n",
    " \n",
    "# to read csv file named \"samplee\"\n",
    "a = pd.read_csv(\"Resources/cities.csv\")\n",
    " \n",
    "# to save as html file\n",
    "# named as \"Table\"\n",
    "a.to_html(\"table.html\")\n",
    " \n",
    "# assign it to a\n",
    "# variable (string)\n",
    "html_file = a.to_html()"
   ]
  },
  {
   "cell_type": "code",
   "execution_count": null,
   "id": "2feb7eaa-6452-4771-be5d-b21a2defc582",
   "metadata": {},
   "outputs": [],
   "source": []
  }
 ],
 "metadata": {
  "kernelspec": {
   "display_name": "Python 3",
   "language": "python",
   "name": "python3"
  },
  "language_info": {
   "codemirror_mode": {
    "name": "ipython",
    "version": 3
   },
   "file_extension": ".py",
   "mimetype": "text/x-python",
   "name": "python",
   "nbconvert_exporter": "python",
   "pygments_lexer": "ipython3",
   "version": "3.8.8"
  }
 },
 "nbformat": 4,
 "nbformat_minor": 5
}
